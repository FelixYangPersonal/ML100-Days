{
 "cells": [
  {
   "cell_type": "code",
   "execution_count": 1,
   "metadata": {},
   "outputs": [],
   "source": [
    "# Import 需要的套件\n",
    "import os\n",
    "import numpy as np\n",
    "import pandas as pd\n",
    "\n",
    "# 設定 data_path\n",
    "dir_data = './data/'"
   ]
  },
  {
   "cell_type": "code",
   "execution_count": 2,
   "metadata": {},
   "outputs": [],
   "source": [
    "f_app_train = os.path.join(dir_data, 'application_train.csv')\n",
    "app_train = pd.read_csv(f_app_train)"
   ]
  },
  {
   "cell_type": "code",
   "execution_count": 3,
   "metadata": {},
   "outputs": [],
   "source": [
    "import matplotlib.pyplot as plt\n",
    "%matplotlib inline"
   ]
  },
  {
   "cell_type": "markdown",
   "metadata": {},
   "source": [
    "## 練習時間"
   ]
  },
  {
   "cell_type": "markdown",
   "metadata": {},
   "source": [
    "觀察有興趣的欄位的資料分佈，並嘗試找出有趣的訊息\n",
    "#### Eg\n",
    "- 計算任意欄位的平均數及標準差\n",
    "- 畫出任意欄位的[直方圖](https://zh.wikipedia.org/zh-tw/%E7%9B%B4%E6%96%B9%E5%9B%BE)\n",
    "\n",
    "### Hints:\n",
    "- [Descriptive Statistics For pandas Dataframe](https://chrisalbon.com/python/data_wrangling/pandas_dataframe_descriptive_stats/)\n",
    "- [pandas 中的繪圖函數](https://amaozhao.gitbooks.io/pandas-notebook/content/pandas%E4%B8%AD%E7%9A%84%E7%BB%98%E5%9B%BE%E5%87%BD%E6%95%B0.html)\n"
   ]
  },
  {
   "cell_type": "code",
   "execution_count": 4,
   "metadata": {
    "scrolled": false
   },
   "outputs": [
    {
     "name": "stdout",
     "output_type": "stream",
     "text": [
      "rows1 = 307511, cols1 = 122\n",
      "rows2 = 8602, cols2 = 123\n",
      "rows3 = 8602, cols3 = 9\n",
      "                                   Mean  Median    Mode     Min Max   Range  \\\n",
      "FLAG_DOCUMENT_20             0.00104627       0       0       0   1       1   \n",
      "LIVINGAPARTMENTS_MODE          0.109362  0.0808  0.0735       0   1       1   \n",
      "FLAG_DOCUMENT_8                0.204139       0       0       0   1       1   \n",
      "FLAG_EMAIL                     0.125668       0       0       0   1       1   \n",
      "FLAG_DOCUMENT_3                0.653569       1       1       0   1       1   \n",
      "FLAG_DOCUMENT_18             0.00999767       0       0       0   1       1   \n",
      "FLOORSMIN_MEDI                 0.242391  0.2083  0.2083       0   1       1   \n",
      "YEARS_BEGINEXPLUATATION_AVG    0.982611  0.9831  0.9866  0.4903   1  0.5097   \n",
      "FLAG_EMP_PHONE                 0.999767       1       1       0   1       1   \n",
      "\n",
      "                            Quartiles     Variance       S.D.  \n",
      "FLAG_DOCUMENT_20                    0    0.0010453   0.032331  \n",
      "LIVINGAPARTMENTS_MODE          0.0239    0.0102012   0.101001  \n",
      "FLAG_DOCUMENT_8                     0     0.162485   0.403094  \n",
      "FLAG_EMAIL                          0     0.109889   0.331495  \n",
      "FLAG_DOCUMENT_3                     0     0.226443    0.47586  \n",
      "FLAG_DOCUMENT_18                    0   0.00989887  0.0994931  \n",
      "FLOORSMIN_MEDI                 0.0417    0.0265576   0.162965  \n",
      "YEARS_BEGINEXPLUATATION_AVG    0.9737  0.000188071  0.0137139  \n",
      "FLAG_EMP_PHONE                      1  0.000232477  0.0152472  \n"
     ]
    },
    {
     "data": {
      "image/png": "[encoded data removed]",
      "text/plain": [
       "<Figure size 1080x720 with 9 Axes>"
      ]
     },
     "metadata": {
      "needs_background": "light"
     },
     "output_type": "display_data"
    }
   ],
   "source": [
    "# 列出刪除空值前的行列數\n",
    "(rows1, cols1) = app_train.shape\n",
    "print(f'rows1 = {rows1}, cols1 = {cols1}')\n",
    "\n",
    "# 刪除空值(只要每列有出現1個空值就刪除該列)\n",
    "app_train2 = app_train.dropna(axis='index', how='any')\n",
    "\n",
    "# 重設index\n",
    "app_train2 = app_train2.reset_index()\n",
    "\n",
    "# 列出刪除空值後的行列數\n",
    "(rows2, cols2) = app_train2.shape\n",
    "print(f'rows2 = {rows2}, cols2 = {cols2}')\n",
    "\n",
    "# 隨便取出10個不重複的欄位\n",
    "col_rand = np.random.choice(list(app_train2.head(0)), size=10, replace=False)\n",
    "app_train3 = app_train2.loc[:, col_rand]\n",
    "\n",
    "# 只保留非字串欄位\n",
    "for column in app_train3.columns:\n",
    "    value = app_train3.at[0, column]\n",
    "    if (type(value) is str):\n",
    "        try:\n",
    "            pd.to_numeric(value)\n",
    "        except ValueError:\n",
    "            app_train3 = app_train3.drop(column, axis='columns')\n",
    "            pass\n",
    "(rows3, cols3) = app_train3.shape\n",
    "print(f'rows3 = {rows3}, cols3 = {cols3}')\n",
    "#print(app_train3.head(10))\n",
    "\n",
    "# 建立資料量化輸出表格\n",
    "index = app_train3.columns\n",
    "columns = ['Mean','Median', 'Mode', 'Min', 'Max', 'Range', 'Quartiles', 'Variance', 'S.D.']\n",
    "df = pd.DataFrame(index=index, columns=columns)\n",
    "\n",
    "# 每個欄位各自計算\n",
    "for column in app_train3.columns:\n",
    "    # 平均值\n",
    "    df['Mean'].loc[column] = app_train3[column].mean()\n",
    "    # 中位數\n",
    "    df['Median'].loc[column] = app_train3[column].median()\n",
    "    # 眾數\n",
    "    df['Mode'].loc[column] = app_train3[column].mode()[0]\n",
    "    # 最⼩值\n",
    "    df['Min'].loc[column] = app_train3[column].min()\n",
    "    # 最⼤值\n",
    "    df['Max'].loc[column] = app_train3[column].max()\n",
    "    # 全距\n",
    "    df['Range'].loc[column] = app_train3[column].max() - app_train3[column].min()\n",
    "    # 四分位差(10%)\n",
    "    df['Quartiles'].loc[column] = app_train3[column].quantile(0.1)\n",
    "    # 變異數\n",
    "    df['Variance'].loc[column] = app_train3[column].var()\n",
    "    # 標準差\n",
    "    df['S.D.'].loc[column] = app_train3[column].std()    \n",
    "print(df)\n",
    "\n",
    "# df = df.reset_index(drop=True)\n",
    "\n",
    "plt.figure(figsize=(15, 10))\n",
    "plt.subplots_adjust(wspace=0.5, hspace=0.5)\n",
    "\n",
    "for column in columns:\n",
    "    plt.subplot((len(columns)//3) + (len(columns)%3), 3, (columns.index(column) + 1), title=column)\n",
    "    df[column].hist(grid=False)"
   ]
  }
 ],
 "metadata": {
  "kernelspec": {
   "display_name": "Python 3",
   "language": "python",
   "name": "python3"
  },
  "language_info": {
   "codemirror_mode": {
    "name": "ipython",
    "version": 3
   },
   "file_extension": ".py",
   "mimetype": "text/x-python",
   "name": "python",
   "nbconvert_exporter": "python",
   "pygments_lexer": "ipython3",
   "version": "3.7.0"
  }
 },
 "nbformat": 4,
 "nbformat_minor": 2
}
