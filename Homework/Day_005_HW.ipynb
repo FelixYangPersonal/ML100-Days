{
 "cells": [
  {
   "cell_type": "code",
   "execution_count": 1,
   "metadata": {},
   "outputs": [],
   "source": [
    "# Import 需要的套件\n",
    "import os\n",
    "import numpy as np\n",
    "import pandas as pd\n",
    "\n",
    "# 設定 data_path\n",
    "dir_data = './data/'"
   ]
  },
  {
   "cell_type": "code",
   "execution_count": 2,
   "metadata": {},
   "outputs": [],
   "source": [
    "f_app_train = os.path.join(dir_data, 'application_train.csv')\n",
    "app_train = pd.read_csv(f_app_train)"
   ]
  },
  {
   "cell_type": "code",
   "execution_count": 3,
   "metadata": {},
   "outputs": [],
   "source": [
    "import matplotlib.pyplot as plt\n",
    "%matplotlib inline"
   ]
  },
  {
   "cell_type": "markdown",
   "metadata": {},
   "source": [
    "## 練習時間"
   ]
  },
  {
   "cell_type": "markdown",
   "metadata": {},
   "source": [
    "觀察有興趣的欄位的資料分佈，並嘗試找出有趣的訊息\n",
    "#### Eg\n",
    "- 計算任意欄位的平均數及標準差\n",
    "- 畫出任意欄位的[直方圖](https://zh.wikipedia.org/zh-tw/%E7%9B%B4%E6%96%B9%E5%9B%BE)\n",
    "\n",
    "### Hints:\n",
    "- [Descriptive Statistics For pandas Dataframe](https://chrisalbon.com/python/data_wrangling/pandas_dataframe_descriptive_stats/)\n",
    "- [pandas 中的繪圖函數](https://amaozhao.gitbooks.io/pandas-notebook/content/pandas%E4%B8%AD%E7%9A%84%E7%BB%98%E5%9B%BE%E5%87%BD%E6%95%B0.html)\n"
   ]
  },
  {
   "cell_type": "code",
   "execution_count": 4,
   "metadata": {},
   "outputs": [
    {
     "name": "stdout",
     "output_type": "stream",
     "text": [
      "rows1 = 307511, cols1 = 122\n",
      "rows2 = 8602, cols2 = 123\n",
      "rows3 = 8602, cols3 = 9\n",
      "                               Mean  Median Mode    Min Max Range Quartiles  \\\n",
      "NONLIVINGAPARTMENTS_AVG  0.00923785       0  NaN      0   1   NaN         0   \n",
      "FLAG_DOCUMENT_2                   0       0  NaN      0   0   NaN         0   \n",
      "ENTRANCES_MEDI              0.15467  0.1379  NaN      0   1   NaN     0.069   \n",
      "FLOORSMIN_MEDI             0.242391  0.2083  NaN      0   1   NaN    0.0417   \n",
      "REGION_RATING_CLIENT        2.00488       2  NaN      1   3   NaN         1   \n",
      "OWN_CAR_AGE                 11.2241       8  NaN      0  65   NaN         2   \n",
      "CNT_FAM_MEMBERS             2.40142       2  NaN      1   7   NaN         1   \n",
      "DAYS_ID_PUBLISH            -2975.93   -3197  NaN  -6551  -1   NaN     -4735   \n",
      "LIVINGAPARTMENTS_MEDI      0.105958   0.077  NaN      0   1   NaN    0.0257   \n",
      "\n",
      "                        Variance S.D.  \n",
      "NONLIVINGAPARTMENTS_AVG      NaN  NaN  \n",
      "FLAG_DOCUMENT_2              NaN  NaN  \n",
      "ENTRANCES_MEDI               NaN  NaN  \n",
      "FLOORSMIN_MEDI               NaN  NaN  \n",
      "REGION_RATING_CLIENT         NaN  NaN  \n",
      "OWN_CAR_AGE                  NaN  NaN  \n",
      "CNT_FAM_MEMBERS              NaN  NaN  \n",
      "DAYS_ID_PUBLISH              NaN  NaN  \n",
      "LIVINGAPARTMENTS_MEDI        NaN  NaN  \n"
     ]
    }
   ],
   "source": [
    "# 列出刪除空值前的行列數\n",
    "(rows1, cols1) = app_train.shape\n",
    "print(f'rows1 = {rows1}, cols1 = {cols1}')\n",
    "\n",
    "# 刪除空值(只要每列有出現1個空值就刪除該列)\n",
    "app_train2 = app_train.dropna(axis='index', how='any')\n",
    "\n",
    "# 重設index\n",
    "app_train2 = app_train2.reset_index()\n",
    "\n",
    "# 列出刪除空值後的行列數\n",
    "(rows2, cols2) = app_train2.shape\n",
    "print(f'rows2 = {rows2}, cols2 = {cols2}')\n",
    "\n",
    "# 隨便取出10個不重複的欄位\n",
    "col_rand = np.random.choice(list(app_train2.head(0)), size=10, replace=False)\n",
    "app_train3 = app_train2.loc[:, col_rand]\n",
    "\n",
    "# 只保留非字串欄位\n",
    "for column in app_train3.columns:\n",
    "    value = app_train3.at[0, column]\n",
    "    if (type(value) is str):\n",
    "        try:\n",
    "            pd.to_numeric(value)\n",
    "        except ValueError:\n",
    "            app_train3 = app_train3.drop(column, axis='columns')\n",
    "            pass\n",
    "(rows3, cols3) = app_train3.shape\n",
    "print(f'rows3 = {rows3}, cols3 = {cols3}')\n",
    "#print(app_train3.head(10))\n",
    "\n",
    "# 建立資料量化輸出表格\n",
    "name = app_train3.columns\n",
    "subject = ['Mean','Median', 'Mode', 'Min', 'Max', 'Range', 'Quartiles', 'Variance', 'S.D.']\n",
    "df = pd.DataFrame(index=name, columns=subject)\n",
    "\n",
    "# 每個欄位各自計算\n",
    "for column in app_train3.columns:\n",
    "    # 平均值\n",
    "    df['Mean'].loc[column] = app_train3.loc[:, column].mean()\n",
    "    # 中位數\n",
    "    df['Median'].loc[column] = app_train3.loc[:, column].median()\n",
    "#     # 眾數\n",
    "#     df['Mode'].loc[column] = app_train3.loc[:, column].mode()\n",
    "    # 最⼩值\n",
    "    df['Min'].loc[column] = app_train3.loc[:, column].min()\n",
    "    # 最⼤值\n",
    "    df['Max'].loc[column] = app_train3.loc[:, column].max()\n",
    "#     # 範圍\n",
    "#     df['Range'].loc[column] = app_train3.loc[:, column].range()\n",
    "    # 四分位差(10%)\n",
    "    df['Quartiles'].loc[column] = app_train3.loc[:, column].quantile(0.1)\n",
    "#     # 變異數\n",
    "#     df['Variance'].loc[column] = app_train3.loc[:, column].var()\n",
    "#     # 標準差\n",
    "#     df['S.D.'].loc[column] = app_train3.loc[:, column].std()    \n",
    "\n",
    "print(df)\n",
    "#continue"
   ]
  }
 ],
 "metadata": {
  "kernelspec": {
   "display_name": "Python 3",
   "language": "python",
   "name": "python3"
  },
  "language_info": {
   "codemirror_mode": {
    "name": "ipython",
    "version": 3
   },
   "file_extension": ".py",
   "mimetype": "text/x-python",
   "name": "python",
   "nbconvert_exporter": "python",
   "pygments_lexer": "ipython3",
   "version": "3.7.0"
  }
 },
 "nbformat": 4,
 "nbformat_minor": 2
}
